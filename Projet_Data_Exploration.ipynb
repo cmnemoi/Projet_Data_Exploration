{
  "cells": [
    {
      "cell_type": "markdown",
      "metadata": {
        "id": "tI6ktHULQryO"
      },
      "source": [
        "# Projet Data Exploration\n",
        "\n",
        "## Etienne Aubry et Charles-Meldhine Madi Mnemoi"
      ]
    },
    {
      "cell_type": "markdown",
      "metadata": {
        "id": "am6YFteFRB2C"
      },
      "source": [
        "L'objectif de ce projet est d'étudier le jeu de données `Esperancevie.csv` qui regroupe des indicateurs sur l'espérance de vie de 196 pays.\n",
        "\n"
      ]
    },
    {
      "cell_type": "markdown",
      "metadata": {
        "id": "28Xia_rgRfnE"
      },
      "source": [
        "## Sommaire \n",
        "\n",
        "- Analyses univariées\n",
        "- Analyses bivariées\n",
        "    - Quanti x Quanti\n",
        "    - Quanti x Quali\n",
        "    - Quali x Quali\n",
        "- Analyse multivariée"
      ]
    },
    {
      "cell_type": "markdown",
      "metadata": {
        "id": "BoI0CWCCSIka"
      },
      "source": [
        "Commençons par charger le jeu de données et les packages nécessaires :"
      ]
    },
    {
      "cell_type": "code",
      "execution_count": null,
      "metadata": {
        "id": "4E0gRElmSIHw"
      },
      "outputs": [],
      "source": [
        "import pandas as pd # Manipulation de tableaux de données\n",
        "import matplotlib.pyplot as plt # Création de graphiques\n",
        "import seaborn as sns # Création de graphiques de façon plus simple\n",
        "from prince import PCA # Analyse en composantes principales\n",
        "\n",
        "dataset = pd.read_csv()"
      ]
    },
    {
      "cell_type": "markdown",
      "metadata": {
        "id": "DP457O-QSEaz"
      },
      "source": [
        "# Analyses univariées"
      ]
    },
    {
      "cell_type": "markdown",
      "metadata": {
        "id": "mdXvfdmGSGZw"
      },
      "source": []
    },
    {
      "cell_type": "code",
      "execution_count": null,
      "metadata": {
        "id": "tKPY8zGLQjsT"
      },
      "outputs": [],
      "source": []
    }
  ],
  "metadata": {
    "colab": {
      "provenance": []
    },
    "kernelspec": {
      "display_name": "projet_data_exploration",
      "language": "python",
      "name": "python3"
    },
    "language_info": {
      "name": "python",
      "version": "3.10.9"
    },
    "vscode": {
      "interpreter": {
        "hash": "1e9187fe2b2928f46c0fd82066340e866019e6c8e95330efd7a4a2fb90a5c11c"
      }
    }
  },
  "nbformat": 4,
  "nbformat_minor": 0
}
